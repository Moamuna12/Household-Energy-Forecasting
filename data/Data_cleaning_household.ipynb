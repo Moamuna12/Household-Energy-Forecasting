{
 "cells": [
  {
   "cell_type": "markdown",
   "source": [
    "# Data Set Details:\n",
    "- Date: The date in format dd/mm/yyyy.\n",
    "- Time: The time in format hh:mm:ss.\n",
    "- Global active power: The household global minute-averaged active power (in kilowatt).\n",
    "- Global reactive power: The household global minute-averaged reactive power (in kilowatt).\n",
    "- Voltage: The minute-averaged voltage (in volt).\n",
    "- Global intensity: The household global minute-averaged current intensity (in ampere).\n",
    "- Sub-metering measurements: There are three sub-metering measurements, each of which corresponds to a different appliance or - group of appliances in the house. The first sub-metering measurement corresponds to the kitchen, the second sub-metering measurement corresponds to the laundry room, and the third sub-metering measurement corresponds to an electric water heater and an air conditioner.\n",
    "\n",
    "- Our target variable is the Global Active Power !"
   ],
   "metadata": {
    "collapsed": false
   },
   "id": "9d66583495a54e2f"
  },
  {
   "cell_type": "code",
   "execution_count": 154,
   "id": "initial_id",
   "metadata": {
    "collapsed": true,
    "ExecuteTime": {
     "end_time": "2023-12-08T17:45:45.966135700Z",
     "start_time": "2023-12-08T17:45:45.910613100Z"
    }
   },
   "outputs": [],
   "source": [
    "import pandas as pd\n",
    "import matplotlib.pyplot as plt"
   ]
  },
  {
   "cell_type": "code",
   "execution_count": 155,
   "outputs": [
    {
     "name": "stdout",
     "output_type": "stream",
     "text": [
      "         Date      Time Global_active_power Global_reactive_power  Voltage  \\\n",
      "0  16/12/2006  17:24:00               4.216                 0.418  234.840   \n",
      "1  16/12/2006  17:25:00               5.360                 0.436  233.630   \n",
      "2  16/12/2006  17:26:00               5.374                 0.498  233.290   \n",
      "3  16/12/2006  17:27:00               5.388                 0.502  233.740   \n",
      "4  16/12/2006  17:28:00               3.666                 0.528  235.680   \n",
      "\n",
      "  Global_intensity Sub_metering_1 Sub_metering_2  Sub_metering_3  \n",
      "0           18.400          0.000          1.000            17.0  \n",
      "1           23.000          0.000          1.000            16.0  \n",
      "2           23.000          0.000          2.000            17.0  \n",
      "3           23.000          0.000          1.000            17.0  \n",
      "4           15.800          0.000          1.000            17.0  \n"
     ]
    },
    {
     "name": "stderr",
     "output_type": "stream",
     "text": [
      "C:\\Users\\pc\\AppData\\Local\\Temp\\ipykernel_10436\\2146137032.py:8: DtypeWarning: Columns (2,3,4,5,6,7) have mixed types. Specify dtype option on import or set low_memory=False.\n",
      "  df = pd.read_csv(file_path, delimiter=\";\")  # Assuming semicolon-separated values\n"
     ]
    }
   ],
   "source": [
    "# using the fivethirtyeight style for plots appearance\n",
    "plt.style.use('fivethirtyeight')\n",
    "\n",
    "# Specify the file path\n",
    "file_path = \"../data/household_power_consumption.txt\"\n",
    "\n",
    "# Read the text file into a DataFrame\n",
    "df = pd.read_csv(file_path, delimiter=\";\")  # Assuming semicolon-separated values\n",
    "\n",
    "# Display the DataFrame\n",
    "print(df.head())"
   ],
   "metadata": {
    "collapsed": false,
    "ExecuteTime": {
     "end_time": "2023-12-08T17:45:48.318124Z",
     "start_time": "2023-12-08T17:45:46.793064600Z"
    }
   },
   "id": "b25988f2e1cb4dee"
  },
  {
   "cell_type": "code",
   "execution_count": 156,
   "outputs": [
    {
     "name": "stdout",
     "output_type": "stream",
     "text": [
      "Date                         0\n",
      "Time                         0\n",
      "Global_active_power          0\n",
      "Global_reactive_power        0\n",
      "Voltage                      0\n",
      "Global_intensity             0\n",
      "Sub_metering_1               0\n",
      "Sub_metering_2               0\n",
      "Sub_metering_3           25979\n",
      "dtype: int64\n"
     ]
    }
   ],
   "source": [
    "# Compute the sum of missing values in each column\n",
    "na_sum = df.isna().sum()\n",
    "\n",
    "# Display the sum of missing values\n",
    "print(na_sum)"
   ],
   "metadata": {
    "collapsed": false,
    "ExecuteTime": {
     "end_time": "2023-12-08T17:45:49.425734700Z",
     "start_time": "2023-12-08T17:45:49.408308300Z"
    }
   },
   "id": "f648eaa9b2ba710a"
  },
  {
   "cell_type": "code",
   "execution_count": 157,
   "outputs": [
    {
     "data": {
      "text/plain": "<bound method DataFrame.value_counts of                Date      Time Global_active_power Global_reactive_power  \\\n0        16/12/2006  17:24:00               4.216                 0.418   \n1        16/12/2006  17:25:00               5.360                 0.436   \n2        16/12/2006  17:26:00               5.374                 0.498   \n3        16/12/2006  17:27:00               5.388                 0.502   \n4        16/12/2006  17:28:00               3.666                 0.528   \n...             ...       ...                 ...                   ...   \n2075254  26/11/2010  20:58:00               0.946                   0.0   \n2075255  26/11/2010  20:59:00               0.944                   0.0   \n2075256  26/11/2010  21:00:00               0.938                   0.0   \n2075257  26/11/2010  21:01:00               0.934                   0.0   \n2075258  26/11/2010  21:02:00               0.932                   0.0   \n\n         Voltage Global_intensity Sub_metering_1 Sub_metering_2  \\\n0        234.840           18.400          0.000          1.000   \n1        233.630           23.000          0.000          1.000   \n2        233.290           23.000          0.000          2.000   \n3        233.740           23.000          0.000          1.000   \n4        235.680           15.800          0.000          1.000   \n...          ...              ...            ...            ...   \n2075254   240.43              4.0            0.0            0.0   \n2075255    240.0              4.0            0.0            0.0   \n2075256   239.82              3.8            0.0            0.0   \n2075257    239.7              3.8            0.0            0.0   \n2075258   239.55              3.8            0.0            0.0   \n\n         Sub_metering_3  \n0                  17.0  \n1                  16.0  \n2                  17.0  \n3                  17.0  \n4                  17.0  \n...                 ...  \n2075254             0.0  \n2075255             0.0  \n2075256             0.0  \n2075257             0.0  \n2075258             0.0  \n\n[2075259 rows x 9 columns]>"
     },
     "execution_count": 157,
     "metadata": {},
     "output_type": "execute_result"
    }
   ],
   "source": [
    "df.value_counts"
   ],
   "metadata": {
    "collapsed": false,
    "ExecuteTime": {
     "end_time": "2023-12-08T17:45:50.206230300Z",
     "start_time": "2023-12-08T17:45:50.166866700Z"
    }
   },
   "id": "a6d363539de73780"
  },
  {
   "cell_type": "code",
   "execution_count": 158,
   "outputs": [
    {
     "data": {
      "text/plain": "<bound method NDFrame.describe of                Date      Time Global_active_power Global_reactive_power  \\\n0        16/12/2006  17:24:00               4.216                 0.418   \n1        16/12/2006  17:25:00               5.360                 0.436   \n2        16/12/2006  17:26:00               5.374                 0.498   \n3        16/12/2006  17:27:00               5.388                 0.502   \n4        16/12/2006  17:28:00               3.666                 0.528   \n...             ...       ...                 ...                   ...   \n2075254  26/11/2010  20:58:00               0.946                   0.0   \n2075255  26/11/2010  20:59:00               0.944                   0.0   \n2075256  26/11/2010  21:00:00               0.938                   0.0   \n2075257  26/11/2010  21:01:00               0.934                   0.0   \n2075258  26/11/2010  21:02:00               0.932                   0.0   \n\n         Voltage Global_intensity Sub_metering_1 Sub_metering_2  \\\n0        234.840           18.400          0.000          1.000   \n1        233.630           23.000          0.000          1.000   \n2        233.290           23.000          0.000          2.000   \n3        233.740           23.000          0.000          1.000   \n4        235.680           15.800          0.000          1.000   \n...          ...              ...            ...            ...   \n2075254   240.43              4.0            0.0            0.0   \n2075255    240.0              4.0            0.0            0.0   \n2075256   239.82              3.8            0.0            0.0   \n2075257    239.7              3.8            0.0            0.0   \n2075258   239.55              3.8            0.0            0.0   \n\n         Sub_metering_3  \n0                  17.0  \n1                  16.0  \n2                  17.0  \n3                  17.0  \n4                  17.0  \n...                 ...  \n2075254             0.0  \n2075255             0.0  \n2075256             0.0  \n2075257             0.0  \n2075258             0.0  \n\n[2075259 rows x 9 columns]>"
     },
     "execution_count": 158,
     "metadata": {},
     "output_type": "execute_result"
    }
   ],
   "source": [
    "df.describe"
   ],
   "metadata": {
    "collapsed": false,
    "ExecuteTime": {
     "end_time": "2023-12-08T17:45:57.474173700Z",
     "start_time": "2023-12-08T17:45:57.455710100Z"
    }
   },
   "id": "af0c15af13a80352"
  },
  {
   "cell_type": "code",
   "execution_count": 159,
   "outputs": [
    {
     "name": "stdout",
     "output_type": "stream",
     "text": [
      "               Date      Time Global_active_power Global_reactive_power  \\\n",
      "6839     21/12/2006  11:23:00                   ?                     ?   \n",
      "6840     21/12/2006  11:24:00                   ?                     ?   \n",
      "19724    30/12/2006  10:08:00                   ?                     ?   \n",
      "19725    30/12/2006  10:09:00                   ?                     ?   \n",
      "41832     14/1/2007  18:36:00                   ?                     ?   \n",
      "...             ...       ...                 ...                   ...   \n",
      "1990185   28/9/2010  19:09:00                   ?                     ?   \n",
      "1990186   28/9/2010  19:10:00                   ?                     ?   \n",
      "1990187   28/9/2010  19:11:00                   ?                     ?   \n",
      "1990188   28/9/2010  19:12:00                   ?                     ?   \n",
      "2027411  24/10/2010  15:35:00                   ?                     ?   \n",
      "\n",
      "        Voltage Global_intensity Sub_metering_1 Sub_metering_2  Sub_metering_3  \n",
      "6839          ?                ?              ?              ?             NaN  \n",
      "6840          ?                ?              ?              ?             NaN  \n",
      "19724         ?                ?              ?              ?             NaN  \n",
      "19725         ?                ?              ?              ?             NaN  \n",
      "41832         ?                ?              ?              ?             NaN  \n",
      "...         ...              ...            ...            ...             ...  \n",
      "1990185       ?                ?              ?              ?             NaN  \n",
      "1990186       ?                ?              ?              ?             NaN  \n",
      "1990187       ?                ?              ?              ?             NaN  \n",
      "1990188       ?                ?              ?              ?             NaN  \n",
      "2027411       ?                ?              ?              ?             NaN  \n",
      "\n",
      "[25979 rows x 9 columns]\n"
     ]
    }
   ],
   "source": [
    "# Check for null values in each row\n",
    "null_rows = df[df.isnull().any(axis=1)]\n",
    "\n",
    "# Display the rows with null values\n",
    "print(null_rows)"
   ],
   "metadata": {
    "collapsed": false,
    "ExecuteTime": {
     "end_time": "2023-12-08T17:45:58.668304200Z",
     "start_time": "2023-12-08T17:45:58.341666100Z"
    }
   },
   "id": "44f8bf8cc1ebae67"
  },
  {
   "cell_type": "code",
   "execution_count": 160,
   "outputs": [
    {
     "name": "stdout",
     "output_type": "stream",
     "text": [
      "               Date         Time Global_active_power Global_reactive_power  \\\n",
      "0        16/12/2006  05:24:00 PM               4.216                 0.418   \n",
      "1        16/12/2006  05:25:00 PM               5.360                 0.436   \n",
      "2        16/12/2006  05:26:00 PM               5.374                 0.498   \n",
      "3        16/12/2006  05:27:00 PM               5.388                 0.502   \n",
      "4        16/12/2006  05:28:00 PM               3.666                 0.528   \n",
      "...             ...          ...                 ...                   ...   \n",
      "2075254  26/11/2010  08:58:00 PM               0.946                   0.0   \n",
      "2075255  26/11/2010  08:59:00 PM               0.944                   0.0   \n",
      "2075256  26/11/2010  09:00:00 PM               0.938                   0.0   \n",
      "2075257  26/11/2010  09:01:00 PM               0.934                   0.0   \n",
      "2075258  26/11/2010  09:02:00 PM               0.932                   0.0   \n",
      "\n",
      "         Voltage Global_intensity Sub_metering_1 Sub_metering_2  \\\n",
      "0        234.840           18.400          0.000          1.000   \n",
      "1        233.630           23.000          0.000          1.000   \n",
      "2        233.290           23.000          0.000          2.000   \n",
      "3        233.740           23.000          0.000          1.000   \n",
      "4        235.680           15.800          0.000          1.000   \n",
      "...          ...              ...            ...            ...   \n",
      "2075254   240.43              4.0            0.0            0.0   \n",
      "2075255    240.0              4.0            0.0            0.0   \n",
      "2075256   239.82              3.8            0.0            0.0   \n",
      "2075257    239.7              3.8            0.0            0.0   \n",
      "2075258   239.55              3.8            0.0            0.0   \n",
      "\n",
      "         Sub_metering_3  \n",
      "0                  17.0  \n",
      "1                  16.0  \n",
      "2                  17.0  \n",
      "3                  17.0  \n",
      "4                  17.0  \n",
      "...                 ...  \n",
      "2075254             0.0  \n",
      "2075255             0.0  \n",
      "2075256             0.0  \n",
      "2075257             0.0  \n",
      "2075258             0.0  \n",
      "\n",
      "[2075259 rows x 9 columns]\n"
     ]
    }
   ],
   "source": [
    "# Converting Time to datetime format\n",
    "df['Time'] = pd.to_datetime(df['Time'], format='%H:%M:%S')\n",
    "\n",
    "# Formatting Time column to AM and PM\n",
    "df['Time'] = df['Time'].dt.strftime('%I:%M:%S %p')\n",
    "\n",
    "print(df)"
   ],
   "metadata": {
    "collapsed": false,
    "ExecuteTime": {
     "end_time": "2023-12-08T17:46:12.242617500Z",
     "start_time": "2023-12-08T17:45:59.544024600Z"
    }
   },
   "id": "edc3857fdbf91e71"
  },
  {
   "cell_type": "code",
   "execution_count": 161,
   "outputs": [
    {
     "name": "stdout",
     "output_type": "stream",
     "text": [
      "               Date         Time Global_active_power Global_reactive_power  \\\n",
      "0        16/12/2006  05:24:00 PM               4.216                 0.418   \n",
      "1        16/12/2006  05:25:00 PM               5.360                 0.436   \n",
      "2        16/12/2006  05:26:00 PM               5.374                 0.498   \n",
      "3        16/12/2006  05:27:00 PM               5.388                 0.502   \n",
      "4        16/12/2006  05:28:00 PM               3.666                 0.528   \n",
      "...             ...          ...                 ...                   ...   \n",
      "2075254  26/11/2010  08:58:00 PM               0.946                   0.0   \n",
      "2075255  26/11/2010  08:59:00 PM               0.944                   0.0   \n",
      "2075256  26/11/2010  09:00:00 PM               0.938                   0.0   \n",
      "2075257  26/11/2010  09:01:00 PM               0.934                   0.0   \n",
      "2075258  26/11/2010  09:02:00 PM               0.932                   0.0   \n",
      "\n",
      "         Voltage Global_intensity Sub_metering_1 Sub_metering_2  \\\n",
      "0        234.840           18.400          0.000          1.000   \n",
      "1        233.630           23.000          0.000          1.000   \n",
      "2        233.290           23.000          0.000          2.000   \n",
      "3        233.740           23.000          0.000          1.000   \n",
      "4        235.680           15.800          0.000          1.000   \n",
      "...          ...              ...            ...            ...   \n",
      "2075254   240.43              4.0            0.0            0.0   \n",
      "2075255    240.0              4.0            0.0            0.0   \n",
      "2075256   239.82              3.8            0.0            0.0   \n",
      "2075257    239.7              3.8            0.0            0.0   \n",
      "2075258   239.55              3.8            0.0            0.0   \n",
      "\n",
      "         Sub_metering_3            DateTime  \n",
      "0                  17.0 2006-12-16 17:24:00  \n",
      "1                  16.0 2006-12-16 17:25:00  \n",
      "2                  17.0 2006-12-16 17:26:00  \n",
      "3                  17.0 2006-12-16 17:27:00  \n",
      "4                  17.0 2006-12-16 17:28:00  \n",
      "...                 ...                 ...  \n",
      "2075254             0.0 2010-11-26 20:58:00  \n",
      "2075255             0.0 2010-11-26 20:59:00  \n",
      "2075256             0.0 2010-11-26 21:00:00  \n",
      "2075257             0.0 2010-11-26 21:01:00  \n",
      "2075258             0.0 2010-11-26 21:02:00  \n",
      "\n",
      "[2075259 rows x 10 columns]\n"
     ]
    }
   ],
   "source": [
    "# Concatenating Date and Time columns in a new column named DateTime\n",
    "df['DateTime'] = df.apply(lambda row: f\"{row['Date']}, {row['Time']}\", axis=1)\n",
    "\n",
    "df['DateTime'] = pd.to_datetime(df['DateTime'], format='%d/%m/%Y, %I:%M:%S %p')\n",
    "\n",
    "# Printing the new form of the DataFrame\n",
    "print(df)"
   ],
   "metadata": {
    "collapsed": false,
    "ExecuteTime": {
     "end_time": "2023-12-08T17:46:41.971710600Z",
     "start_time": "2023-12-08T17:46:27.125909300Z"
    }
   },
   "id": "8f6c42f2190cc98e"
  },
  {
   "cell_type": "code",
   "execution_count": 162,
   "outputs": [
    {
     "data": {
      "text/plain": "         Date         Time Global_active_power Global_reactive_power  Voltage  \\\n0  16/12/2006  05:24:00 PM               4.216                 0.418  234.840   \n1  16/12/2006  05:25:00 PM               5.360                 0.436  233.630   \n2  16/12/2006  05:26:00 PM               5.374                 0.498  233.290   \n3  16/12/2006  05:27:00 PM               5.388                 0.502  233.740   \n4  16/12/2006  05:28:00 PM               3.666                 0.528  235.680   \n\n  Global_intensity Sub_metering_1 Sub_metering_2  Sub_metering_3  \\\n0           18.400          0.000          1.000            17.0   \n1           23.000          0.000          1.000            16.0   \n2           23.000          0.000          2.000            17.0   \n3           23.000          0.000          1.000            17.0   \n4           15.800          0.000          1.000            17.0   \n\n             DateTime  \n0 2006-12-16 17:24:00  \n1 2006-12-16 17:25:00  \n2 2006-12-16 17:26:00  \n3 2006-12-16 17:27:00  \n4 2006-12-16 17:28:00  ",
      "text/html": "<div>\n<style scoped>\n    .dataframe tbody tr th:only-of-type {\n        vertical-align: middle;\n    }\n\n    .dataframe tbody tr th {\n        vertical-align: top;\n    }\n\n    .dataframe thead th {\n        text-align: right;\n    }\n</style>\n<table border=\"1\" class=\"dataframe\">\n  <thead>\n    <tr style=\"text-align: right;\">\n      <th></th>\n      <th>Date</th>\n      <th>Time</th>\n      <th>Global_active_power</th>\n      <th>Global_reactive_power</th>\n      <th>Voltage</th>\n      <th>Global_intensity</th>\n      <th>Sub_metering_1</th>\n      <th>Sub_metering_2</th>\n      <th>Sub_metering_3</th>\n      <th>DateTime</th>\n    </tr>\n  </thead>\n  <tbody>\n    <tr>\n      <th>0</th>\n      <td>16/12/2006</td>\n      <td>05:24:00 PM</td>\n      <td>4.216</td>\n      <td>0.418</td>\n      <td>234.840</td>\n      <td>18.400</td>\n      <td>0.000</td>\n      <td>1.000</td>\n      <td>17.0</td>\n      <td>2006-12-16 17:24:00</td>\n    </tr>\n    <tr>\n      <th>1</th>\n      <td>16/12/2006</td>\n      <td>05:25:00 PM</td>\n      <td>5.360</td>\n      <td>0.436</td>\n      <td>233.630</td>\n      <td>23.000</td>\n      <td>0.000</td>\n      <td>1.000</td>\n      <td>16.0</td>\n      <td>2006-12-16 17:25:00</td>\n    </tr>\n    <tr>\n      <th>2</th>\n      <td>16/12/2006</td>\n      <td>05:26:00 PM</td>\n      <td>5.374</td>\n      <td>0.498</td>\n      <td>233.290</td>\n      <td>23.000</td>\n      <td>0.000</td>\n      <td>2.000</td>\n      <td>17.0</td>\n      <td>2006-12-16 17:26:00</td>\n    </tr>\n    <tr>\n      <th>3</th>\n      <td>16/12/2006</td>\n      <td>05:27:00 PM</td>\n      <td>5.388</td>\n      <td>0.502</td>\n      <td>233.740</td>\n      <td>23.000</td>\n      <td>0.000</td>\n      <td>1.000</td>\n      <td>17.0</td>\n      <td>2006-12-16 17:27:00</td>\n    </tr>\n    <tr>\n      <th>4</th>\n      <td>16/12/2006</td>\n      <td>05:28:00 PM</td>\n      <td>3.666</td>\n      <td>0.528</td>\n      <td>235.680</td>\n      <td>15.800</td>\n      <td>0.000</td>\n      <td>1.000</td>\n      <td>17.0</td>\n      <td>2006-12-16 17:28:00</td>\n    </tr>\n  </tbody>\n</table>\n</div>"
     },
     "execution_count": 162,
     "metadata": {},
     "output_type": "execute_result"
    }
   ],
   "source": [
    "df.head()"
   ],
   "metadata": {
    "collapsed": false,
    "ExecuteTime": {
     "end_time": "2023-12-08T17:46:46.159935700Z",
     "start_time": "2023-12-08T17:46:46.106788400Z"
    }
   },
   "id": "32c8cc64b06a8344"
  },
  {
   "cell_type": "code",
   "execution_count": 163,
   "outputs": [
    {
     "name": "stdout",
     "output_type": "stream",
     "text": [
      "Date                             object\n",
      "Time                             object\n",
      "Global_active_power             float64\n",
      "Global_reactive_power           float64\n",
      "Voltage                         float64\n",
      "Global_intensity                float64\n",
      "Sub_metering_1                  float64\n",
      "Sub_metering_2                  float64\n",
      "Sub_metering_3                  float64\n",
      "DateTime                 datetime64[ns]\n",
      "dtype: object\n"
     ]
    }
   ],
   "source": [
    "# Convert numeric columns to appropriate data types\n",
    "df['Global_active_power'] = pd.to_numeric(df['Global_active_power'], errors='coerce')\n",
    "df['Global_reactive_power'] = pd.to_numeric(df['Global_reactive_power'], errors='coerce')\n",
    "df['Voltage'] = pd.to_numeric(df['Voltage'], errors='coerce')\n",
    "df['Global_intensity'] = pd.to_numeric(df['Global_intensity'], errors='coerce')\n",
    "df['Sub_metering_1'] = pd.to_numeric(df['Sub_metering_1'], errors='coerce')\n",
    "df['Sub_metering_2'] = pd.to_numeric(df['Sub_metering_2'], errors='coerce')\n",
    "\n",
    "# Confirm the updated data types\n",
    "print(df.dtypes)"
   ],
   "metadata": {
    "collapsed": false,
    "ExecuteTime": {
     "end_time": "2023-12-08T17:46:55.338385400Z",
     "start_time": "2023-12-08T17:46:52.068598800Z"
    }
   },
   "id": "6ffbd13113d655bc"
  },
  {
   "cell_type": "code",
   "execution_count": 164,
   "outputs": [
    {
     "data": {
      "text/plain": "   Global_active_power  Global_reactive_power  Voltage  Global_intensity  \\\n0                4.216                  0.418   234.84              18.4   \n1                5.360                  0.436   233.63              23.0   \n2                5.374                  0.498   233.29              23.0   \n3                5.388                  0.502   233.74              23.0   \n4                3.666                  0.528   235.68              15.8   \n\n   Sub_metering_1  Sub_metering_2  Sub_metering_3            DateTime  \n0             0.0             1.0            17.0 2006-12-16 17:24:00  \n1             0.0             1.0            16.0 2006-12-16 17:25:00  \n2             0.0             2.0            17.0 2006-12-16 17:26:00  \n3             0.0             1.0            17.0 2006-12-16 17:27:00  \n4             0.0             1.0            17.0 2006-12-16 17:28:00  ",
      "text/html": "<div>\n<style scoped>\n    .dataframe tbody tr th:only-of-type {\n        vertical-align: middle;\n    }\n\n    .dataframe tbody tr th {\n        vertical-align: top;\n    }\n\n    .dataframe thead th {\n        text-align: right;\n    }\n</style>\n<table border=\"1\" class=\"dataframe\">\n  <thead>\n    <tr style=\"text-align: right;\">\n      <th></th>\n      <th>Global_active_power</th>\n      <th>Global_reactive_power</th>\n      <th>Voltage</th>\n      <th>Global_intensity</th>\n      <th>Sub_metering_1</th>\n      <th>Sub_metering_2</th>\n      <th>Sub_metering_3</th>\n      <th>DateTime</th>\n    </tr>\n  </thead>\n  <tbody>\n    <tr>\n      <th>0</th>\n      <td>4.216</td>\n      <td>0.418</td>\n      <td>234.84</td>\n      <td>18.4</td>\n      <td>0.0</td>\n      <td>1.0</td>\n      <td>17.0</td>\n      <td>2006-12-16 17:24:00</td>\n    </tr>\n    <tr>\n      <th>1</th>\n      <td>5.360</td>\n      <td>0.436</td>\n      <td>233.63</td>\n      <td>23.0</td>\n      <td>0.0</td>\n      <td>1.0</td>\n      <td>16.0</td>\n      <td>2006-12-16 17:25:00</td>\n    </tr>\n    <tr>\n      <th>2</th>\n      <td>5.374</td>\n      <td>0.498</td>\n      <td>233.29</td>\n      <td>23.0</td>\n      <td>0.0</td>\n      <td>2.0</td>\n      <td>17.0</td>\n      <td>2006-12-16 17:26:00</td>\n    </tr>\n    <tr>\n      <th>3</th>\n      <td>5.388</td>\n      <td>0.502</td>\n      <td>233.74</td>\n      <td>23.0</td>\n      <td>0.0</td>\n      <td>1.0</td>\n      <td>17.0</td>\n      <td>2006-12-16 17:27:00</td>\n    </tr>\n    <tr>\n      <th>4</th>\n      <td>3.666</td>\n      <td>0.528</td>\n      <td>235.68</td>\n      <td>15.8</td>\n      <td>0.0</td>\n      <td>1.0</td>\n      <td>17.0</td>\n      <td>2006-12-16 17:28:00</td>\n    </tr>\n  </tbody>\n</table>\n</div>"
     },
     "execution_count": 164,
     "metadata": {},
     "output_type": "execute_result"
    }
   ],
   "source": [
    "df = df.drop(['Date', 'Time'], axis=1)\n",
    "df.head()"
   ],
   "metadata": {
    "collapsed": false,
    "ExecuteTime": {
     "end_time": "2023-12-08T17:46:58.431690400Z",
     "start_time": "2023-12-08T17:46:58.333089500Z"
    }
   },
   "id": "a2e781870ef1da0f"
  },
  {
   "cell_type": "code",
   "execution_count": 165,
   "outputs": [
    {
     "data": {
      "text/plain": "                     Global_active_power  Global_reactive_power   Voltage  \\\nDateTime                                                                    \n2006-12-16 17:00:00              152.024                  8.244   8447.18   \n2006-12-16 18:00:00              217.932                  4.802  14074.81   \n2006-12-16 19:00:00              204.014                  5.114  13993.95   \n2006-12-16 20:00:00              196.114                  4.506  14044.29   \n2006-12-16 21:00:00              183.388                  4.600  14229.52   \n\n                     Global_intensity  Sub_metering_1  Sub_metering_2  \\\nDateTime                                                                \n2006-12-16 17:00:00             651.6             0.0            19.0   \n2006-12-16 18:00:00             936.0             0.0           403.0   \n2006-12-16 19:00:00             870.2             0.0            86.0   \n2006-12-16 20:00:00             835.0             0.0             0.0   \n2006-12-16 21:00:00             782.8             0.0            25.0   \n\n                     Sub_metering_3  \nDateTime                             \n2006-12-16 17:00:00           607.0  \n2006-12-16 18:00:00          1012.0  \n2006-12-16 19:00:00          1001.0  \n2006-12-16 20:00:00          1007.0  \n2006-12-16 21:00:00          1033.0  ",
      "text/html": "<div>\n<style scoped>\n    .dataframe tbody tr th:only-of-type {\n        vertical-align: middle;\n    }\n\n    .dataframe tbody tr th {\n        vertical-align: top;\n    }\n\n    .dataframe thead th {\n        text-align: right;\n    }\n</style>\n<table border=\"1\" class=\"dataframe\">\n  <thead>\n    <tr style=\"text-align: right;\">\n      <th></th>\n      <th>Global_active_power</th>\n      <th>Global_reactive_power</th>\n      <th>Voltage</th>\n      <th>Global_intensity</th>\n      <th>Sub_metering_1</th>\n      <th>Sub_metering_2</th>\n      <th>Sub_metering_3</th>\n    </tr>\n    <tr>\n      <th>DateTime</th>\n      <th></th>\n      <th></th>\n      <th></th>\n      <th></th>\n      <th></th>\n      <th></th>\n      <th></th>\n    </tr>\n  </thead>\n  <tbody>\n    <tr>\n      <th>2006-12-16 17:00:00</th>\n      <td>152.024</td>\n      <td>8.244</td>\n      <td>8447.18</td>\n      <td>651.6</td>\n      <td>0.0</td>\n      <td>19.0</td>\n      <td>607.0</td>\n    </tr>\n    <tr>\n      <th>2006-12-16 18:00:00</th>\n      <td>217.932</td>\n      <td>4.802</td>\n      <td>14074.81</td>\n      <td>936.0</td>\n      <td>0.0</td>\n      <td>403.0</td>\n      <td>1012.0</td>\n    </tr>\n    <tr>\n      <th>2006-12-16 19:00:00</th>\n      <td>204.014</td>\n      <td>5.114</td>\n      <td>13993.95</td>\n      <td>870.2</td>\n      <td>0.0</td>\n      <td>86.0</td>\n      <td>1001.0</td>\n    </tr>\n    <tr>\n      <th>2006-12-16 20:00:00</th>\n      <td>196.114</td>\n      <td>4.506</td>\n      <td>14044.29</td>\n      <td>835.0</td>\n      <td>0.0</td>\n      <td>0.0</td>\n      <td>1007.0</td>\n    </tr>\n    <tr>\n      <th>2006-12-16 21:00:00</th>\n      <td>183.388</td>\n      <td>4.600</td>\n      <td>14229.52</td>\n      <td>782.8</td>\n      <td>0.0</td>\n      <td>25.0</td>\n      <td>1033.0</td>\n    </tr>\n  </tbody>\n</table>\n</div>"
     },
     "execution_count": 165,
     "metadata": {},
     "output_type": "execute_result"
    }
   ],
   "source": [
    "# Defininh 'DateTime' column as an index\n",
    "df = df.set_index('DateTime')\n",
    "\n",
    "# Grouping the rows by hour instead of minute\n",
    "df = df.resample('H').sum()\n",
    "\n",
    "df.head()"
   ],
   "metadata": {
    "collapsed": false,
    "ExecuteTime": {
     "end_time": "2023-12-08T17:47:00.888234900Z",
     "start_time": "2023-12-08T17:47:00.489739500Z"
    }
   },
   "id": "f5240859dc84e83f"
  },
  {
   "cell_type": "code",
   "execution_count": 166,
   "outputs": [
    {
     "data": {
      "text/plain": "<Axes: xlabel='DateTime'>"
     },
     "execution_count": 166,
     "metadata": {},
     "output_type": "execute_result"
    },
    {
     "data": {
      "text/plain": "<Figure size 1200x500 with 1 Axes>",
      "image/png": "[encoded data removed]"
     },
     "metadata": {},
     "output_type": "display_data"
    }
   ],
   "source": [
    "# Resetting the index to something other than DateTime\n",
    "df = df.reset_index()\n",
    "\n",
    "# displaying the DataFrame in a graph\n",
    "df.plot(figsize=(12, 5), x='DateTime', y='Global_active_power')"
   ],
   "metadata": {
    "collapsed": false,
    "ExecuteTime": {
     "end_time": "2023-12-08T17:47:18.668461Z",
     "start_time": "2023-12-08T17:47:17.647997900Z"
    }
   },
   "id": "2e3784abc486ef29"
  },
  {
   "cell_type": "code",
   "execution_count": 167,
   "outputs": [
    {
     "data": {
      "text/plain": "             DateTime  Global_active_power  Global_reactive_power   Voltage  \\\n0 2006-12-16 17:00:00              152.024                  8.244   8447.18   \n1 2006-12-16 18:00:00              217.932                  4.802  14074.81   \n2 2006-12-16 19:00:00              204.014                  5.114  13993.95   \n3 2006-12-16 20:00:00              196.114                  4.506  14044.29   \n4 2006-12-16 21:00:00              183.388                  4.600  14229.52   \n\n   Global_intensity  Sub_metering_1  Sub_metering_2  Sub_metering_3  \n0             651.6             0.0            19.0           607.0  \n1             936.0             0.0           403.0          1012.0  \n2             870.2             0.0            86.0          1001.0  \n3             835.0             0.0             0.0          1007.0  \n4             782.8             0.0            25.0          1033.0  ",
      "text/html": "<div>\n<style scoped>\n    .dataframe tbody tr th:only-of-type {\n        vertical-align: middle;\n    }\n\n    .dataframe tbody tr th {\n        vertical-align: top;\n    }\n\n    .dataframe thead th {\n        text-align: right;\n    }\n</style>\n<table border=\"1\" class=\"dataframe\">\n  <thead>\n    <tr style=\"text-align: right;\">\n      <th></th>\n      <th>DateTime</th>\n      <th>Global_active_power</th>\n      <th>Global_reactive_power</th>\n      <th>Voltage</th>\n      <th>Global_intensity</th>\n      <th>Sub_metering_1</th>\n      <th>Sub_metering_2</th>\n      <th>Sub_metering_3</th>\n    </tr>\n  </thead>\n  <tbody>\n    <tr>\n      <th>0</th>\n      <td>2006-12-16 17:00:00</td>\n      <td>152.024</td>\n      <td>8.244</td>\n      <td>8447.18</td>\n      <td>651.6</td>\n      <td>0.0</td>\n      <td>19.0</td>\n      <td>607.0</td>\n    </tr>\n    <tr>\n      <th>1</th>\n      <td>2006-12-16 18:00:00</td>\n      <td>217.932</td>\n      <td>4.802</td>\n      <td>14074.81</td>\n      <td>936.0</td>\n      <td>0.0</td>\n      <td>403.0</td>\n      <td>1012.0</td>\n    </tr>\n    <tr>\n      <th>2</th>\n      <td>2006-12-16 19:00:00</td>\n      <td>204.014</td>\n      <td>5.114</td>\n      <td>13993.95</td>\n      <td>870.2</td>\n      <td>0.0</td>\n      <td>86.0</td>\n      <td>1001.0</td>\n    </tr>\n    <tr>\n      <th>3</th>\n      <td>2006-12-16 20:00:00</td>\n      <td>196.114</td>\n      <td>4.506</td>\n      <td>14044.29</td>\n      <td>835.0</td>\n      <td>0.0</td>\n      <td>0.0</td>\n      <td>1007.0</td>\n    </tr>\n    <tr>\n      <th>4</th>\n      <td>2006-12-16 21:00:00</td>\n      <td>183.388</td>\n      <td>4.600</td>\n      <td>14229.52</td>\n      <td>782.8</td>\n      <td>0.0</td>\n      <td>25.0</td>\n      <td>1033.0</td>\n    </tr>\n  </tbody>\n</table>\n</div>"
     },
     "execution_count": 167,
     "metadata": {},
     "output_type": "execute_result"
    }
   ],
   "source": [
    "df.head()"
   ],
   "metadata": {
    "collapsed": false,
    "ExecuteTime": {
     "end_time": "2023-12-08T17:47:25.118165800Z",
     "start_time": "2023-12-08T17:47:25.057037800Z"
    }
   },
   "id": "35f3713a6e09ad01"
  },
  {
   "cell_type": "code",
   "execution_count": 168,
   "outputs": [
    {
     "name": "stdout",
     "output_type": "stream",
     "text": [
      "0\n"
     ]
    }
   ],
   "source": [
    "# The number of null values in the column 'Global_active_power'\n",
    "null_count = df['Global_active_power'].isnull().sum()\n",
    "print(null_count)"
   ],
   "metadata": {
    "collapsed": false,
    "ExecuteTime": {
     "end_time": "2023-12-08T17:47:48.669118500Z",
     "start_time": "2023-12-08T17:47:48.615487500Z"
    }
   },
   "id": "3f77696c1f00d065"
  },
  {
   "cell_type": "code",
   "execution_count": 169,
   "outputs": [],
   "source": [
    "df = df.rename(columns={'Global_active_power':'Consumption'})"
   ],
   "metadata": {
    "collapsed": false,
    "ExecuteTime": {
     "end_time": "2023-12-08T17:47:56.329906400Z",
     "start_time": "2023-12-08T17:47:56.259884800Z"
    }
   },
   "id": "4911b85c2ffa75ef"
  },
  {
   "cell_type": "code",
   "execution_count": 170,
   "outputs": [],
   "source": [
    "# Replacing the missing values with 0\n",
    "df['Consumption'].fillna(0,inplace=True)"
   ],
   "metadata": {
    "collapsed": false,
    "ExecuteTime": {
     "end_time": "2023-12-08T17:48:06.021856800Z",
     "start_time": "2023-12-08T17:48:05.955810500Z"
    }
   },
   "id": "caee78fe3eb046c0"
  },
  {
   "cell_type": "code",
   "execution_count": 171,
   "outputs": [
    {
     "data": {
      "text/plain": "             DateTime  Consumption  Global_reactive_power   Voltage  \\\n0 2006-12-16 17:00:00      152.024                  8.244   8447.18   \n1 2006-12-16 18:00:00      217.932                  4.802  14074.81   \n2 2006-12-16 19:00:00      204.014                  5.114  13993.95   \n3 2006-12-16 20:00:00      196.114                  4.506  14044.29   \n4 2006-12-16 21:00:00      183.388                  4.600  14229.52   \n\n   Global_intensity  Sub_metering_1  Sub_metering_2  Sub_metering_3  \n0             651.6             0.0            19.0           607.0  \n1             936.0             0.0           403.0          1012.0  \n2             870.2             0.0            86.0          1001.0  \n3             835.0             0.0             0.0          1007.0  \n4             782.8             0.0            25.0          1033.0  ",
      "text/html": "<div>\n<style scoped>\n    .dataframe tbody tr th:only-of-type {\n        vertical-align: middle;\n    }\n\n    .dataframe tbody tr th {\n        vertical-align: top;\n    }\n\n    .dataframe thead th {\n        text-align: right;\n    }\n</style>\n<table border=\"1\" class=\"dataframe\">\n  <thead>\n    <tr style=\"text-align: right;\">\n      <th></th>\n      <th>DateTime</th>\n      <th>Consumption</th>\n      <th>Global_reactive_power</th>\n      <th>Voltage</th>\n      <th>Global_intensity</th>\n      <th>Sub_metering_1</th>\n      <th>Sub_metering_2</th>\n      <th>Sub_metering_3</th>\n    </tr>\n  </thead>\n  <tbody>\n    <tr>\n      <th>0</th>\n      <td>2006-12-16 17:00:00</td>\n      <td>152.024</td>\n      <td>8.244</td>\n      <td>8447.18</td>\n      <td>651.6</td>\n      <td>0.0</td>\n      <td>19.0</td>\n      <td>607.0</td>\n    </tr>\n    <tr>\n      <th>1</th>\n      <td>2006-12-16 18:00:00</td>\n      <td>217.932</td>\n      <td>4.802</td>\n      <td>14074.81</td>\n      <td>936.0</td>\n      <td>0.0</td>\n      <td>403.0</td>\n      <td>1012.0</td>\n    </tr>\n    <tr>\n      <th>2</th>\n      <td>2006-12-16 19:00:00</td>\n      <td>204.014</td>\n      <td>5.114</td>\n      <td>13993.95</td>\n      <td>870.2</td>\n      <td>0.0</td>\n      <td>86.0</td>\n      <td>1001.0</td>\n    </tr>\n    <tr>\n      <th>3</th>\n      <td>2006-12-16 20:00:00</td>\n      <td>196.114</td>\n      <td>4.506</td>\n      <td>14044.29</td>\n      <td>835.0</td>\n      <td>0.0</td>\n      <td>0.0</td>\n      <td>1007.0</td>\n    </tr>\n    <tr>\n      <th>4</th>\n      <td>2006-12-16 21:00:00</td>\n      <td>183.388</td>\n      <td>4.600</td>\n      <td>14229.52</td>\n      <td>782.8</td>\n      <td>0.0</td>\n      <td>25.0</td>\n      <td>1033.0</td>\n    </tr>\n  </tbody>\n</table>\n</div>"
     },
     "execution_count": 171,
     "metadata": {},
     "output_type": "execute_result"
    }
   ],
   "source": [
    "df.head()"
   ],
   "metadata": {
    "collapsed": false,
    "ExecuteTime": {
     "end_time": "2023-12-08T17:48:09.377467500Z",
     "start_time": "2023-12-08T17:48:09.332111700Z"
    }
   },
   "id": "3793201b695eb0f1"
  },
  {
   "cell_type": "code",
   "execution_count": 172,
   "outputs": [
    {
     "data": {
      "text/plain": "             DateTime  Consumption  Global_reactive_power   Voltage  \\\n0 2006-12-16 17:00:00       152.02                  8.244   8447.18   \n1 2006-12-16 18:00:00       217.93                  4.802  14074.81   \n2 2006-12-16 19:00:00       204.01                  5.114  13993.95   \n3 2006-12-16 20:00:00       196.11                  4.506  14044.29   \n4 2006-12-16 21:00:00       183.39                  4.600  14229.52   \n\n   Global_intensity  Sub_metering_1  Sub_metering_2  Sub_metering_3  \n0             651.6             0.0            19.0           607.0  \n1             936.0             0.0           403.0          1012.0  \n2             870.2             0.0            86.0          1001.0  \n3             835.0             0.0             0.0          1007.0  \n4             782.8             0.0            25.0          1033.0  ",
      "text/html": "<div>\n<style scoped>\n    .dataframe tbody tr th:only-of-type {\n        vertical-align: middle;\n    }\n\n    .dataframe tbody tr th {\n        vertical-align: top;\n    }\n\n    .dataframe thead th {\n        text-align: right;\n    }\n</style>\n<table border=\"1\" class=\"dataframe\">\n  <thead>\n    <tr style=\"text-align: right;\">\n      <th></th>\n      <th>DateTime</th>\n      <th>Consumption</th>\n      <th>Global_reactive_power</th>\n      <th>Voltage</th>\n      <th>Global_intensity</th>\n      <th>Sub_metering_1</th>\n      <th>Sub_metering_2</th>\n      <th>Sub_metering_3</th>\n    </tr>\n  </thead>\n  <tbody>\n    <tr>\n      <th>0</th>\n      <td>2006-12-16 17:00:00</td>\n      <td>152.02</td>\n      <td>8.244</td>\n      <td>8447.18</td>\n      <td>651.6</td>\n      <td>0.0</td>\n      <td>19.0</td>\n      <td>607.0</td>\n    </tr>\n    <tr>\n      <th>1</th>\n      <td>2006-12-16 18:00:00</td>\n      <td>217.93</td>\n      <td>4.802</td>\n      <td>14074.81</td>\n      <td>936.0</td>\n      <td>0.0</td>\n      <td>403.0</td>\n      <td>1012.0</td>\n    </tr>\n    <tr>\n      <th>2</th>\n      <td>2006-12-16 19:00:00</td>\n      <td>204.01</td>\n      <td>5.114</td>\n      <td>13993.95</td>\n      <td>870.2</td>\n      <td>0.0</td>\n      <td>86.0</td>\n      <td>1001.0</td>\n    </tr>\n    <tr>\n      <th>3</th>\n      <td>2006-12-16 20:00:00</td>\n      <td>196.11</td>\n      <td>4.506</td>\n      <td>14044.29</td>\n      <td>835.0</td>\n      <td>0.0</td>\n      <td>0.0</td>\n      <td>1007.0</td>\n    </tr>\n    <tr>\n      <th>4</th>\n      <td>2006-12-16 21:00:00</td>\n      <td>183.39</td>\n      <td>4.600</td>\n      <td>14229.52</td>\n      <td>782.8</td>\n      <td>0.0</td>\n      <td>25.0</td>\n      <td>1033.0</td>\n    </tr>\n  </tbody>\n</table>\n</div>"
     },
     "execution_count": 172,
     "metadata": {},
     "output_type": "execute_result"
    }
   ],
   "source": [
    "df['Consumption'] = df['Consumption'].round(2)\n",
    "df.head()"
   ],
   "metadata": {
    "collapsed": false,
    "ExecuteTime": {
     "end_time": "2023-12-08T17:48:15.998588900Z",
     "start_time": "2023-12-08T17:48:15.945396Z"
    }
   },
   "id": "9f5b9cc3569c9178"
  },
  {
   "cell_type": "code",
   "execution_count": 173,
   "outputs": [],
   "source": [
    "# Saving new DataFrame as a csv file (data_household.csv)\n",
    "headers = ['DateTime','Consumption']\n",
    "df.to_csv('../data/data_household.csv',columns=headers,index=False)"
   ],
   "metadata": {
    "collapsed": false,
    "ExecuteTime": {
     "end_time": "2023-12-08T17:48:46.141514400Z",
     "start_time": "2023-12-08T17:48:45.993676500Z"
    }
   },
   "id": "c239e24643742201"
  }
 ],
 "metadata": {
  "kernelspec": {
   "display_name": "Python 3",
   "language": "python",
   "name": "python3"
  },
  "language_info": {
   "codemirror_mode": {
    "name": "ipython",
    "version": 2
   },
   "file_extension": ".py",
   "mimetype": "text/x-python",
   "name": "python",
   "nbconvert_exporter": "python",
   "pygments_lexer": "ipython2",
   "version": "2.7.6"
  }
 },
 "nbformat": 4,
 "nbformat_minor": 5
}
